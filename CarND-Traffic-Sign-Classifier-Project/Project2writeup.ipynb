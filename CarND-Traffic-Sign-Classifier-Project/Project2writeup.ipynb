{
 "cells": [
  {
   "cell_type": "markdown",
   "metadata": {
    "collapsed": true
   },
   "source": [
    "### Data Set Summary & Exploration"
   ]
  },
  {
   "cell_type": "markdown",
   "metadata": {
    "collapsed": true
   },
   "source": [
    "#### 1. Provide a basic summary of the data set. In the code, the analysis should be done using python, numpy and/or pandas methods rather than hardcoding results manually.\n",
    "\n",
    "I used the pandas library to calculate summary statistics of the traffic\n",
    "signs data set:\n",
    "\n",
    "* The size of training set is 34799\n",
    "* The size of the validation set is 4410\n",
    "* The size of test set is 12630\n",
    "* The shape of a traffic sign image is (34799, 32, 32, 3)\n",
    "* The number of unique classes/labels in the data set is 43\n",
    "\n",
    "#### 2. Include an exploratory visualization of the dataset. \n",
    "\n",
    "Here is an exploratory visualization of the data set. It is a bar chart showing how the data can classified in 43 types from 34799 images. \n",
    "\n",
    "<img src=\"traffic_signs.jpg\">\n",
    "\n"
   ]
  },
  {
   "cell_type": "markdown",
   "metadata": {},
   "source": [
    "### Design and Test a Model Architecture\n",
    "\n",
    "\n",
    "\n",
    "\n",
    "\n"
   ]
  },
  {
   "cell_type": "markdown",
   "metadata": {
    "collapsed": true
   },
   "source": [
    "\n",
    "As a first step, I decided to convert the images to grayscale because it is simple to work on a plane of image data (e.g., a single color channel) at a time. Grayscale images only contain one image plane (containing the gray scale intensity values). Another point is data reduction. If you converted this image to gray scale you would only need to process 1/3 of the data compared to the color image (RGB).  However, you also lose information (e.g., color information). For many image processing applications color is very important, and converting to gray scale can worsen results. At this point, I will go for this pre-processing technique. Here is an example of a traffic sign image before and after grayscaling.\n",
    "\n",
    "\n",
    "<img src=\"color2graytransform.jpg\">\n",
    "\n",
    "\n",
    "\n",
    "As a last step, I normalized the image data because in the process of training our network, we're going to be multiplying (weights) and adding to (biases) these initial inputs in order to cause activations that we then backpropogate with the gradients to train the model. If we didn't scale our input training vectors, the ranges of our distributions of feature values would likely be different for each feature, and thus the learning rate would cause corrections in each dimension that would differ from one another. We might be over compensating a correction in one weight dimension while undercompensating in another.\n",
    "Thus we have to normalize images before using them as input into Neural network. Here is an example of a traffic sign image before and after normalization. \n",
    "\n",
    "<img src=\"gray2normaltransform.jpg\">\n"
   ]
  },
  {
   "cell_type": "code",
   "execution_count": null,
   "metadata": {
    "collapsed": true
   },
   "outputs": [],
   "source": []
  },
  {
   "cell_type": "markdown",
   "metadata": {},
   "source": [
    "My final model consisted of the following layers:\n",
    "    \n",
    "| Layer             | Description                                                                      | \n",
    "|:-----------------:|:--------------------------------------------------------------------------------:|\n",
    "| Input             |       Input = 32x32x1. (one gray channel)                                        |         \n",
    "| Convolution 5x5   |      1x1 stride, valid padding, Output = 28x28x6  - Layer 1                      |       \n",
    "| RELU              |                                                                                  |       \n",
    "| Max pooling       |      2x2 stride, Output 14x14x6                                                  |        \n",
    "| Input             |       Input = 14x14x6 (from previous layer)                                      |\n",
    "| Convolution 5x5   |      1x1 stride, valid padding, Output = 10x10x16  - Layer 2                     |\n",
    "| RELU              |                                                                                  |\n",
    "| Max pooling       |      2x2 stride, Output 5x5x16                                                   |  \n",
    "| Flatten           |      Input = 5x5x16. Output = 400                                                | \n",
    "| Fully Connected   |      Input = 400 Output = 120 - Layer 3                                          |\n",
    "| Activation        |                                                                                  | \n",
    "| Fully Connected   |      Input = 120 Output = 84 - Layer 4                                           |\n",
    "| Activation        |                                                                                  | \n",
    "| Fully Connected   | Input = 84. Output = 43 - Layer 5                                                | \n",
    "\n",
    "\n",
    "\n",
    "\n"
   ]
  },
  {
   "cell_type": "markdown",
   "metadata": {},
   "source": [
    "### Training "
   ]
  },
  {
   "cell_type": "markdown",
   "metadata": {},
   "source": [
    "To train the model, I used the following hyperparameters: \n",
    "\n",
    "1. learning rate = 0.001\n",
    "2. EPOCHS = 40\n",
    "3. BATCH_SIZE = 128  \n",
    "\n",
    "I use 40 epochs to make sure that model was trained long enough to achieve 93% validation accuracy. The learning rate and batch size was initially chosen as explained in lesson. \n"
   ]
  },
  {
   "cell_type": "markdown",
   "metadata": {},
   "source": [
    "My final model results were:\n",
    "training set accuracy of 100%\n",
    "validation set accuracy of 93.3%\n",
    "test set accuracy of 91.7% \n",
    "\n",
    "The plots are shown below: \n",
    "\n",
    "<img src=\"training.jpg\">\n",
    "<img src=\"validation.jpg\">\n",
    "<img src=\"testing.jpg\">\n"
   ]
  },
  {
   "cell_type": "markdown",
   "metadata": {},
   "source": [
    "If an iterative approach was chosen:\n",
    "\n",
    "\n",
    "What was the first architecture that was tried and why was it chosen?\n",
    "\n",
    "--- lenet because it was told to choose at the starting point to do this project. It should work well for this image classification. \n",
    "\n",
    "What were some problems with the initial architecture?\n",
    "\n",
    "--- I could not get more than 93% of validation accuracy. \n",
    "\n",
    "How was the architecture adjusted and why was it adjusted? Typical adjustments could include choosing a different model architecture, adding or taking away layers (pooling, dropout, convolution, etc), using an activation function or changing the activation function. One common justification for adjusting an architecture would be due to overfitting or underfitting. A high accuracy on the training set but low accuracy on the validation set indicates over fitting; a low accuracy on both sets indicates under fitting.\n",
    "\n",
    "\n",
    "<img src=\"learning_rate.jpg\">\n",
    "---- From my results when I compare with the figure above, I don't have overfitting or underfitting. Thus I don't need drop out. \n",
    "\n",
    "Which parameters were tuned? How were they adjusted and why?\n",
    "\n",
    "---Epoch number was increased to make sure that the model was trained long enough. \n",
    "\n",
    "What are some of the important design choices and why were they chosen? For example, why might a convolution layer work well with this problem? How might a dropout layer help with creating a successful model?\n",
    "\n",
    "---I tried to implement with drop out in my code but I took it out because without it I have the better results. "
   ]
  },
  {
   "cell_type": "markdown",
   "metadata": {},
   "source": [
    "### Test a Model on New Images"
   ]
  },
  {
   "cell_type": "markdown",
   "metadata": {},
   "source": [
    "\n",
    "Choose five German traffic signs found on the web and provide them in the report. For each image, discuss what quality or qualities might be difficult to classify.\n",
    "Here are five German traffic signs that I found on the web:\n",
    "\n",
    "\n",
    "<img src=\"sign1.jpg\">\n",
    "<img src=\"sign2.jpg\">\n",
    "<img src=\"sign3.jpg\">\n",
    "<img src=\"sign4.jpg\">\n",
    "<img src=\"sign5.jpg\">   \n",
    "\n",
    "\n",
    "sign 1 = Ahead only (35) //\n",
    "sign 2 = Bicycles crossing (29) //  \n",
    "sign 3 = Road work (25) // \n",
    "sign 4 = Slippery road (23) //\n",
    "sign 5 = Stop (14) //\n",
    "\n",
    "The sign 2 and sign 3 and sign 4 might be difficult to classify because they are quite similar to each other. \n",
    "\n",
    "\n",
    "\n",
    "\n",
    "\n",
    "Discuss the model's predictions on these new traffic signs and compare the results to predicting on the test set. At a minimum, discuss what the predictions were, the accuracy on these new predictions, and compare the accuracy to the accuracy on the test set (OPTIONAL: Discuss the results in more detail as described in the \"Stand Out Suggestions\" part of the rubric).\n",
    "Here are the results of the prediction:\n",
    "\n",
    "\n",
    "\n",
    "| Image                      | Prediction                                       | \n",
    "|:--------------------------:|:------------------------------------------------:|\n",
    "| Ahead only (35)            |    Ahead only (35)                               |         \n",
    "| Bicycles crossing (29)     |    Right-of-way at the next intersection (11)    |       \n",
    "| Road work (25)             |    Right-of-way at the next intersection (11)    |       \n",
    "| Slippery road (23)         |    Right-of-way at the next intersection (11)    |        \n",
    "|  Stop (14)                 |    Stop (14)                                     |\n",
    "\n",
    "\n",
    "\n",
    "The model was able to correctly guess 2 of the 5 traffic signs, which gives an accuracy of 40%.\n",
    "\n",
    "\n",
    "\n"
   ]
  },
  {
   "cell_type": "markdown",
   "metadata": {},
   "source": [
    "Describe how certain the model is when predicting on each of the five new images by looking at the softmax probabilities for each prediction. Provide the top 5 softmax probabilities for each image along with the sign type of each probability. (OPTIONAL: as described in the \"Stand Out Suggestions\" part of the rubric, visualizations can also be provided such as bar charts)\n",
    "The code for making predictions on my final model is located in the 11th cell of the Ipython notebook.\n",
    "\n",
    "\n",
    "\n",
    "For the first image, the model is relatively sure that this is an Ahead only sign (35) (probability of 1). The top five soft max probabilities were\n",
    "\n",
    "| Prob.                      | Prediction                                       | \n",
    "|:--------------------------:|:------------------------------------------------:|\n",
    "| 1.00000000e+00             |    Ahead only (35)                               |         \n",
    "| 1.22848767e-15             |     Road work (25)                               |       \n",
    "| 5.81646608e-22             |    Dangerous curve to the right (20)             |       \n",
    "| 1.82674982e-24             |     No passing (9)                               |        \n",
    "| 8.15798927e-25             |     Go straight or right (36)                    |\n",
    "\n",
    "\n",
    "\n",
    "For the second image, the model predicts that this is a Right-of-way at the next intersection sign (11) (probability of 0.82). \n",
    "However, the real sign is the Bicycles crossing sign (29) and it is Not in the image set. The top five soft max probabilities were\n",
    "\n",
    "| Prob.                      | Prediction                                       | \n",
    "|:--------------------------:|:------------------------------------------------:|\n",
    "| 8.26796591e-01             |     Right-of-way at the next intersection (11)   |         \n",
    "| 1.73091754e-01             |     Speed limit (30km/h) (1)                     |       \n",
    "| 5.17097105e-05             |     Speed limit (60km/h) (3)                     |       \n",
    "| 4.78134934e-05             |     Roundabout mandatory (40)                    |        \n",
    "| 6.26091287e-06             |     Double curve (21)                            | \n",
    "\n",
    "\n",
    "\n",
    "For the third image, the model predicts that this is a Right-of-way at the next intersection sign (11) (probability of 0.97). \n",
    "However, the real sign is the Road work sign (25) and it is in the image set. The top five soft max probabilities were\n",
    "\n",
    "| Prob.                      | Prediction                                       | \n",
    "|:--------------------------:|:------------------------------------------------:|\n",
    "| 9.74328160e-01             |     Right-of-way at the next intersection (11)   |         \n",
    "| 2.09201798e-02             |     Road narrows on the right (24)               |       \n",
    "| 4.75169858e-03             |     Road work (25)                               |       \n",
    "| 3.41475186e-08             |     Beware of ice/snow (30)                      |       \n",
    "| 2.23824681e-10             |     Traffic signals (26)                         | \n",
    "\n",
    "\n",
    "\n",
    "For the fourth image, the model predicts that this is a Right-of-way at the next intersection sign (11) (probability of 1). \n",
    "However, the real sign is the Road work sign (23) and it is Not in the image set. The top five soft max probabilities were\n",
    "\n",
    "| Prob.                      | Prediction                                       | \n",
    "|:--------------------------:|:------------------------------------------------:|\n",
    "| 1.00000000e+00             |     Right-of-way at the next intersection (11)   |         \n",
    "| 2.16442650e-08             |     Traffic signals (26)                         |       \n",
    "| 9.34491998e-11             |     General caution (18)                         |       \n",
    "| 1.22876665e-11             |     Road work (25)                               |       \n",
    "| 1.07705685e-11             |     Double curve (21)                            |\n",
    "\n",
    "\n",
    "\n",
    "\n",
    "For the fifth image, the model is relatively sure that this is a Stop sign (14) (probability of 1). The top five soft max probabilities were\n",
    "\n",
    "| Prob.                      | Prediction                                       | \n",
    "|:--------------------------:|:------------------------------------------------:|\n",
    "| 1.00000000e+00             |    Stop (14)                                     |         \n",
    "| 7.27368554e-10             |    Speed limit (20km/h) (0)                      |       \n",
    "| 9.14644623e-19             |    Speed limit (30km/h) (1)                      |       \n",
    "| 3.16031074e-20             |    No entry (17)                                 |        \n",
    "|  1.49417455e-21            |    Roundabout mandatory (40)                     |\n",
    "\n"
   ]
  },
  {
   "cell_type": "code",
   "execution_count": null,
   "metadata": {
    "collapsed": true
   },
   "outputs": [],
   "source": [
    "\n",
    "       \n",
    "\n",
    "       \n"
   ]
  }
 ],
 "metadata": {
  "anaconda-cloud": {},
  "kernelspec": {
   "display_name": "Python 3",
   "language": "python",
   "name": "python3"
  },
  "language_info": {
   "codemirror_mode": {
    "name": "ipython",
    "version": 3
   },
   "file_extension": ".py",
   "mimetype": "text/x-python",
   "name": "python",
   "nbconvert_exporter": "python",
   "pygments_lexer": "ipython3",
   "version": "3.5.3"
  }
 },
 "nbformat": 4,
 "nbformat_minor": 2
}
